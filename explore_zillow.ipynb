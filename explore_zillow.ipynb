{
 "cells": [
  {
   "cell_type": "markdown",
   "metadata": {},
   "source": [
    "## Sourcing the Zillow database as the data source, create a jupyter notebook named `explore_zillow` and do the following:"
   ]
  },
  {
   "cell_type": "markdown",
   "metadata": {},
   "source": [
    "<a id='top'></a>"
   ]
  },
  {
   "cell_type": "code",
   "execution_count": 1,
   "metadata": {},
   "outputs": [],
   "source": [
    "#imports\n",
    "import pandas as pd\n",
    "import numpy as np\n",
    "import matplotlib.pyplot as plt\n",
    "import warnings\n",
    "import seaborn as sns\n",
    "from scipy import stats\n",
    "\n",
    "#functions\n",
    "import acquire as acq\n",
    "import wrangle_zillow as wz\n",
    "\n",
    "\n",
    "\n",
    "warnings.filterwarnings(\"ignore\")\n",
    "\n",
    "#evaluate\n",
    "from sklearn.metrics import mean_squared_error, r2_score, explained_variance_score\n",
    "from sklearn.feature_selection import f_regression \n",
    "from statsmodels.formula.api import ols\n",
    "import sklearn.preprocessing\n",
    "\n",
    "#feature engineering\n",
    "from sklearn.feature_selection import SelectKBest, f_regression\n",
    "from sklearn.linear_model import LinearRegression\n",
    "from sklearn.feature_selection import RFE\n",
    "from sklearn.model_selection import train_test_split\n",
    "from sklearn.preprocessing import MinMaxScaler\n",
    "\n",
    "# modeling methods\n",
    "from sklearn.metrics import mean_squared_error\n",
    "from sklearn.linear_model import LinearRegression, LassoLars, TweedieRegressor\n",
    "from sklearn.preprocessing import PolynomialFeatures"
   ]
  },
  {
   "cell_type": "code",
   "execution_count": 2,
   "metadata": {},
   "outputs": [],
   "source": [
    "df = wz.wrangle_zillow()"
   ]
  },
  {
   "cell_type": "code",
   "execution_count": 3,
   "metadata": {},
   "outputs": [
    {
     "data": {
      "text/html": [
       "<div>\n",
       "<style scoped>\n",
       "    .dataframe tbody tr th:only-of-type {\n",
       "        vertical-align: middle;\n",
       "    }\n",
       "\n",
       "    .dataframe tbody tr th {\n",
       "        vertical-align: top;\n",
       "    }\n",
       "\n",
       "    .dataframe thead th {\n",
       "        text-align: right;\n",
       "    }\n",
       "</style>\n",
       "<table border=\"1\" class=\"dataframe\">\n",
       "  <thead>\n",
       "    <tr style=\"text-align: right;\">\n",
       "      <th></th>\n",
       "      <th>bathroomcnt</th>\n",
       "      <th>bedroomcnt</th>\n",
       "      <th>buildingqualitytypeid</th>\n",
       "      <th>calculatedfinishedsquarefeet</th>\n",
       "      <th>fips</th>\n",
       "      <th>latitude</th>\n",
       "      <th>longitude</th>\n",
       "      <th>lotsizesquarefeet</th>\n",
       "      <th>rawcensustractandblock</th>\n",
       "      <th>regionidcity</th>\n",
       "      <th>...</th>\n",
       "      <th>structuretaxvaluedollarcnt</th>\n",
       "      <th>taxvaluedollarcnt</th>\n",
       "      <th>assessmentyear</th>\n",
       "      <th>landtaxvaluedollarcnt</th>\n",
       "      <th>taxamount</th>\n",
       "      <th>zestimateerror</th>\n",
       "      <th>transactiondate</th>\n",
       "      <th>heatingorsystemdesc</th>\n",
       "      <th>propertylandusetypeid.1</th>\n",
       "      <th>county</th>\n",
       "    </tr>\n",
       "    <tr>\n",
       "      <th>parcelid</th>\n",
       "      <th></th>\n",
       "      <th></th>\n",
       "      <th></th>\n",
       "      <th></th>\n",
       "      <th></th>\n",
       "      <th></th>\n",
       "      <th></th>\n",
       "      <th></th>\n",
       "      <th></th>\n",
       "      <th></th>\n",
       "      <th></th>\n",
       "      <th></th>\n",
       "      <th></th>\n",
       "      <th></th>\n",
       "      <th></th>\n",
       "      <th></th>\n",
       "      <th></th>\n",
       "      <th></th>\n",
       "      <th></th>\n",
       "      <th></th>\n",
       "      <th></th>\n",
       "    </tr>\n",
       "  </thead>\n",
       "  <tbody>\n",
       "    <tr>\n",
       "      <th>10711855</th>\n",
       "      <td>2.0</td>\n",
       "      <td>3.0</td>\n",
       "      <td>8.0</td>\n",
       "      <td>2107.0</td>\n",
       "      <td>6037.0</td>\n",
       "      <td>34222559.0</td>\n",
       "      <td>-118617387.0</td>\n",
       "      <td>9158.0</td>\n",
       "      <td>6.037113e+07</td>\n",
       "      <td>12447.0</td>\n",
       "      <td>...</td>\n",
       "      <td>249655.0</td>\n",
       "      <td>624139.0</td>\n",
       "      <td>2016.0</td>\n",
       "      <td>374484.0</td>\n",
       "      <td>7659.36</td>\n",
       "      <td>-0.007357</td>\n",
       "      <td>2017-07-07</td>\n",
       "      <td>Central</td>\n",
       "      <td>261</td>\n",
       "      <td>Los_Angeles</td>\n",
       "    </tr>\n",
       "    <tr>\n",
       "      <th>10711877</th>\n",
       "      <td>2.0</td>\n",
       "      <td>4.0</td>\n",
       "      <td>8.0</td>\n",
       "      <td>1882.0</td>\n",
       "      <td>6037.0</td>\n",
       "      <td>34220261.0</td>\n",
       "      <td>-118616409.0</td>\n",
       "      <td>9035.0</td>\n",
       "      <td>6.037113e+07</td>\n",
       "      <td>12447.0</td>\n",
       "      <td>...</td>\n",
       "      <td>253000.0</td>\n",
       "      <td>660000.0</td>\n",
       "      <td>2016.0</td>\n",
       "      <td>407000.0</td>\n",
       "      <td>8123.91</td>\n",
       "      <td>0.021066</td>\n",
       "      <td>2017-08-29</td>\n",
       "      <td>Central</td>\n",
       "      <td>261</td>\n",
       "      <td>Los_Angeles</td>\n",
       "    </tr>\n",
       "    <tr>\n",
       "      <th>10711888</th>\n",
       "      <td>2.0</td>\n",
       "      <td>4.0</td>\n",
       "      <td>8.0</td>\n",
       "      <td>1882.0</td>\n",
       "      <td>6037.0</td>\n",
       "      <td>34222491.0</td>\n",
       "      <td>-118616854.0</td>\n",
       "      <td>9800.0</td>\n",
       "      <td>6.037113e+07</td>\n",
       "      <td>12447.0</td>\n",
       "      <td>...</td>\n",
       "      <td>257591.0</td>\n",
       "      <td>542923.0</td>\n",
       "      <td>2016.0</td>\n",
       "      <td>285332.0</td>\n",
       "      <td>6673.24</td>\n",
       "      <td>0.077174</td>\n",
       "      <td>2017-04-04</td>\n",
       "      <td>Central</td>\n",
       "      <td>261</td>\n",
       "      <td>Los_Angeles</td>\n",
       "    </tr>\n",
       "    <tr>\n",
       "      <th>10711910</th>\n",
       "      <td>2.0</td>\n",
       "      <td>3.0</td>\n",
       "      <td>8.0</td>\n",
       "      <td>1477.0</td>\n",
       "      <td>6037.0</td>\n",
       "      <td>34221864.0</td>\n",
       "      <td>-118615739.0</td>\n",
       "      <td>11285.0</td>\n",
       "      <td>6.037113e+07</td>\n",
       "      <td>12447.0</td>\n",
       "      <td>...</td>\n",
       "      <td>57968.0</td>\n",
       "      <td>78031.0</td>\n",
       "      <td>2016.0</td>\n",
       "      <td>20063.0</td>\n",
       "      <td>1116.46</td>\n",
       "      <td>-0.041238</td>\n",
       "      <td>2017-03-17</td>\n",
       "      <td>Central</td>\n",
       "      <td>261</td>\n",
       "      <td>Los_Angeles</td>\n",
       "    </tr>\n",
       "    <tr>\n",
       "      <th>10711923</th>\n",
       "      <td>2.0</td>\n",
       "      <td>4.0</td>\n",
       "      <td>8.0</td>\n",
       "      <td>1918.0</td>\n",
       "      <td>6037.0</td>\n",
       "      <td>34220619.0</td>\n",
       "      <td>-118615253.0</td>\n",
       "      <td>11239.0</td>\n",
       "      <td>6.037113e+07</td>\n",
       "      <td>12447.0</td>\n",
       "      <td>...</td>\n",
       "      <td>167869.0</td>\n",
       "      <td>415459.0</td>\n",
       "      <td>2016.0</td>\n",
       "      <td>247590.0</td>\n",
       "      <td>5239.85</td>\n",
       "      <td>-0.009496</td>\n",
       "      <td>2017-03-24</td>\n",
       "      <td>Central</td>\n",
       "      <td>261</td>\n",
       "      <td>Los_Angeles</td>\n",
       "    </tr>\n",
       "  </tbody>\n",
       "</table>\n",
       "<p>5 rows × 25 columns</p>\n",
       "</div>"
      ],
      "text/plain": [
       "          bathroomcnt  bedroomcnt  buildingqualitytypeid  \\\n",
       "parcelid                                                   \n",
       "10711855          2.0         3.0                    8.0   \n",
       "10711877          2.0         4.0                    8.0   \n",
       "10711888          2.0         4.0                    8.0   \n",
       "10711910          2.0         3.0                    8.0   \n",
       "10711923          2.0         4.0                    8.0   \n",
       "\n",
       "          calculatedfinishedsquarefeet    fips    latitude    longitude  \\\n",
       "parcelid                                                                  \n",
       "10711855                        2107.0  6037.0  34222559.0 -118617387.0   \n",
       "10711877                        1882.0  6037.0  34220261.0 -118616409.0   \n",
       "10711888                        1882.0  6037.0  34222491.0 -118616854.0   \n",
       "10711910                        1477.0  6037.0  34221864.0 -118615739.0   \n",
       "10711923                        1918.0  6037.0  34220619.0 -118615253.0   \n",
       "\n",
       "          lotsizesquarefeet  rawcensustractandblock  regionidcity  ...  \\\n",
       "parcelid                                                           ...   \n",
       "10711855             9158.0            6.037113e+07       12447.0  ...   \n",
       "10711877             9035.0            6.037113e+07       12447.0  ...   \n",
       "10711888             9800.0            6.037113e+07       12447.0  ...   \n",
       "10711910            11285.0            6.037113e+07       12447.0  ...   \n",
       "10711923            11239.0            6.037113e+07       12447.0  ...   \n",
       "\n",
       "          structuretaxvaluedollarcnt  taxvaluedollarcnt  assessmentyear  \\\n",
       "parcelid                                                                  \n",
       "10711855                    249655.0           624139.0          2016.0   \n",
       "10711877                    253000.0           660000.0          2016.0   \n",
       "10711888                    257591.0           542923.0          2016.0   \n",
       "10711910                     57968.0            78031.0          2016.0   \n",
       "10711923                    167869.0           415459.0          2016.0   \n",
       "\n",
       "          landtaxvaluedollarcnt  taxamount  zestimateerror  transactiondate  \\\n",
       "parcelid                                                                      \n",
       "10711855               374484.0    7659.36       -0.007357       2017-07-07   \n",
       "10711877               407000.0    8123.91        0.021066       2017-08-29   \n",
       "10711888               285332.0    6673.24        0.077174       2017-04-04   \n",
       "10711910                20063.0    1116.46       -0.041238       2017-03-17   \n",
       "10711923               247590.0    5239.85       -0.009496       2017-03-24   \n",
       "\n",
       "          heatingorsystemdesc  propertylandusetypeid.1       county  \n",
       "parcelid                                                             \n",
       "10711855              Central                      261  Los_Angeles  \n",
       "10711877              Central                      261  Los_Angeles  \n",
       "10711888              Central                      261  Los_Angeles  \n",
       "10711910              Central                      261  Los_Angeles  \n",
       "10711923              Central                      261  Los_Angeles  \n",
       "\n",
       "[5 rows x 25 columns]"
      ]
     },
     "execution_count": 3,
     "metadata": {},
     "output_type": "execute_result"
    }
   ],
   "source": [
    "df.head()"
   ]
  },
  {
   "cell_type": "code",
   "execution_count": 4,
   "metadata": {},
   "outputs": [
    {
     "data": {
      "text/plain": [
       "(69571, 25)"
      ]
     },
     "execution_count": 4,
     "metadata": {},
     "output_type": "execute_result"
    }
   ],
   "source": [
    "df.shape"
   ]
  },
  {
   "cell_type": "code",
   "execution_count": null,
   "metadata": {},
   "outputs": [],
   "source": []
  },
  {
   "cell_type": "code",
   "execution_count": null,
   "metadata": {},
   "outputs": [],
   "source": []
  },
  {
   "cell_type": "code",
   "execution_count": null,
   "metadata": {},
   "outputs": [],
   "source": []
  },
  {
   "cell_type": "markdown",
   "metadata": {},
   "source": [
    " [Jump to the bottom of Repo](#bottom)"
   ]
  },
  {
   "cell_type": "markdown",
   "metadata": {},
   "source": [
    "# 1. Ask at least 5 questions about the data, keeping in mind that your target variable is logerror. \n",
    "\n",
    "e.g. Is logerror significantly different for properties in LA County vs Orange County vs Ventura County?"
   ]
  },
  {
   "cell_type": "code",
   "execution_count": null,
   "metadata": {},
   "outputs": [],
   "source": []
  },
  {
   "cell_type": "code",
   "execution_count": null,
   "metadata": {},
   "outputs": [],
   "source": []
  },
  {
   "cell_type": "code",
   "execution_count": null,
   "metadata": {},
   "outputs": [],
   "source": []
  },
  {
   "cell_type": "markdown",
   "metadata": {},
   "source": [
    "<a id='bottom'></a>"
   ]
  },
  {
   "cell_type": "markdown",
   "metadata": {},
   "source": [
    " [Jump to the top of Repo](#top)"
   ]
  },
  {
   "cell_type": "markdown",
   "metadata": {},
   "source": [
    "# 2. Answer those questions through a mix of statistical tests and visualizations."
   ]
  },
  {
   "cell_type": "code",
   "execution_count": null,
   "metadata": {},
   "outputs": [],
   "source": []
  },
  {
   "cell_type": "code",
   "execution_count": null,
   "metadata": {},
   "outputs": [],
   "source": []
  },
  {
   "cell_type": "code",
   "execution_count": null,
   "metadata": {},
   "outputs": [],
   "source": []
  },
  {
   "cell_type": "code",
   "execution_count": null,
   "metadata": {},
   "outputs": [],
   "source": []
  },
  {
   "cell_type": "markdown",
   "metadata": {},
   "source": [
    " [Jump to the top of Repo](#top)"
   ]
  },
  {
   "cell_type": "markdown",
   "metadata": {},
   "source": [
    "# Bonus:\n",
    "\n",
    "Compute the mean(logerror) by zipcode and the overall mean(logerror). Write a loop that will run a t-test between the overall mean and the mean for each zip code. We want to identify the zip codes where the error is significantly higher or lower than the expected error."
   ]
  },
  {
   "cell_type": "code",
   "execution_count": null,
   "metadata": {},
   "outputs": [],
   "source": []
  },
  {
   "cell_type": "code",
   "execution_count": null,
   "metadata": {},
   "outputs": [],
   "source": []
  },
  {
   "cell_type": "markdown",
   "metadata": {},
   "source": [
    " [Jump to the top of Repo](#top)"
   ]
  }
 ],
 "metadata": {
  "kernelspec": {
   "display_name": "Python 3",
   "language": "python",
   "name": "python3"
  },
  "language_info": {
   "codemirror_mode": {
    "name": "ipython",
    "version": 3
   },
   "file_extension": ".py",
   "mimetype": "text/x-python",
   "name": "python",
   "nbconvert_exporter": "python",
   "pygments_lexer": "ipython3",
   "version": "3.8.5"
  }
 },
 "nbformat": 4,
 "nbformat_minor": 4
}
